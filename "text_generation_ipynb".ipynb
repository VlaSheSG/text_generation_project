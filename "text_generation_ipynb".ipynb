{
  "cells": [
    {
      "cell_type": "markdown",
      "metadata": {
        "id": "view-in-github",
        "colab_type": "text"
      },
      "source": [
        "<a href=\"https://colab.research.google.com/github/VlaSheSG/text_generation_project/blob/main/%22text_generation_ipynb%22.ipynb\" target=\"_parent\"><img src=\"https://colab.research.google.com/assets/colab-badge.svg\" alt=\"Open In Colab\"/></a>"
      ]
    },
    {
      "cell_type": "code",
      "source": [
        "# Підключення бібліотек\n",
        "try:\n",
        "    import transformers\n",
        "    print(\"Бібліотека transformers успішно імпортована.\")\n",
        "except ImportError:\n",
        "    print(\"Бібліотеку transformers не знайдено. Встановлюємо...\")\n",
        "    !pip install transformers\n",
        "\n",
        "from transformers import pipeline\n",
        "\n",
        "# Використання готової моделі для генерації тексту\n",
        "generator = pipeline('text-generation', model='gpt2')\n",
        "prompt = \"Напиши короткий огляд на нову модель смартфона, який має чудову камеру та довгий час роботи батареї.\"\n",
        "generated_text = generator(prompt, max_new_tokens=100, num_return_sequences=1)\n",
        "\n",
        "print(\"\\nЗгенерований текст:\")\n",
        "print(generated_text[0]['generated_text'])"
      ],
      "metadata": {
        "colab": {
          "base_uri": "https://localhost:8080/"
        },
        "id": "hfZ8v4l8E7Ah",
        "outputId": "0cde6a23-f1f0-4779-aab0-bdbb2c9cade4"
      },
      "execution_count": null,
      "outputs": [
        {
          "output_type": "stream",
          "name": "stdout",
          "text": [
            "Бібліотека transformers успішно імпортована.\n"
          ]
        },
        {
          "output_type": "stream",
          "name": "stderr",
          "text": [
            "/usr/local/lib/python3.11/dist-packages/huggingface_hub/utils/_auth.py:94: UserWarning: \n",
            "The secret `HF_TOKEN` does not exist in your Colab secrets.\n",
            "To authenticate with the Hugging Face Hub, create a token in your settings tab (https://huggingface.co/settings/tokens), set it as secret in your Google Colab and restart your session.\n",
            "You will be able to reuse this secret in all of your notebooks.\n",
            "Please note that authentication is recommended but still optional to access public models or datasets.\n",
            "  warnings.warn(\n",
            "Device set to use cpu\n",
            "Setting `pad_token_id` to `eos_token_id`:50256 for open-end generation.\n"
          ]
        },
        {
          "output_type": "stream",
          "name": "stdout",
          "text": [
            "\n",
            "Згенерований текст:\n",
            "Напиши короткий огляд на нову модель смартфона, який має чудову камеру та довгий час роботи батареї. он огляд раподертеле на то даке, чизоли огляд лелценио, pонмерзов, он пупнов подитеций ран\n"
          ]
        }
      ]
    }
  ],
  "metadata": {
    "colab": {
      "provenance": [],
      "include_colab_link": true
    },
    "kernelspec": {
      "display_name": "Python 3",
      "name": "python3"
    }
  },
  "nbformat": 4,
  "nbformat_minor": 0
}